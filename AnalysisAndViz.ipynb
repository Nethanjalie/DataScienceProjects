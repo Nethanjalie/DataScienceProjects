{
 "cells": [
  {
   "cell_type": "markdown",
   "metadata": {
    "collapsed": true,
    "pycharm": {
     "name": "#%% md\n"
    }
   },
   "source": [
    "## Steps 1-3"
   ]
  },
  {
   "cell_type": "code",
   "execution_count": 1,
   "outputs": [],
   "source": [
    "import pandas as pd"
   ],
   "metadata": {
    "collapsed": false,
    "pycharm": {
     "name": "#%%\n"
    }
   }
  },
  {
   "cell_type": "code",
   "execution_count": 2,
   "outputs": [],
   "source": [
    "fname_school_locations = 'schoollocations2019.csv'\n",
    "fname_school_enrolments = 'allschoolsFTEenrolmentsFeb2021.csv'\n",
    "\n",
    "#importing the datasets into pandas dataframes\n",
    "school_locations = pd.read_csv(fname_school_locations, encoding= 'unicode_escape')\n",
    "school_enrolments = pd.read_csv(fname_school_enrolments, encoding= 'unicode_escape')\n",
    "\n",
    "#saving as csv files\n",
    "# school_locations.to_csv('school_locations.csv')\n",
    "# school_enrolments.to_csv('school_enrolments.csv')\n",
    "\n",
    "#saving as json files\n",
    "# school_locations.to_json('school_locations.json')\n",
    "# school_enrolments.to_json('school_enrolments.json')"
   ],
   "metadata": {
    "collapsed": false,
    "pycharm": {
     "name": "#%%\n"
    }
   }
  },
  {
   "cell_type": "markdown",
   "source": [
    "## Step 4"
   ],
   "metadata": {
    "collapsed": false
   }
  },
  {
   "cell_type": "code",
   "execution_count": null,
   "outputs": [],
   "source": [
    "#finding out number of columns in each dataset\\n\",\n",
    "columns_locations = school_locations.columns\n",
    "columns_enrolments = school_enrolments.columns\n",
    "print('School Locations dataset has ' + str(len(columns_locations)) +  ' columns')\n",
    "print('School Enrolments dataset has ' + str(len(columns_enrolments)) + ' columns')"
   ],
   "metadata": {
    "collapsed": false,
    "pycharm": {
     "name": "#%%\n",
     "is_executing": true
    }
   }
  },
  {
   "cell_type": "markdown",
   "source": [
    "## Step 5"
   ],
   "metadata": {
    "collapsed": false
   }
  },
  {
   "cell_type": "code",
   "execution_count": null,
   "outputs": [],
   "source": [
    "#finding out number of rows in each dataset\\n\",\n",
    "print('School Locations dataset has ' + str(len(school_locations.index)) +  ' rows')\n",
    "print('School Enrolments dataset has ' + str(len(school_enrolments.index)) + ' rows')"
   ],
   "metadata": {
    "collapsed": false,
    "pycharm": {
     "name": "#%%\n",
     "is_executing": true
    }
   }
  },
  {
   "cell_type": "markdown",
   "source": [
    "## Step 6: School Locations"
   ],
   "metadata": {
    "collapsed": false
   }
  },
  {
   "cell_type": "code",
   "execution_count": null,
   "outputs": [],
   "source": [
    "from pandas.core.dtypes.common import is_numeric_dtype\n",
    "\n",
    "#for data set school_locations, create a dataframe with the following headers\n",
    "headers = ['Field Name', 'Description', 'Pandas Data Type', 'Data Scale', 'Min Value', 'MAx Value', 'Unique Values', 'Missing Value Count']\n",
    "school_location_table_data = pd.DataFrame(columns=headers)\n",
    "\n",
    "for col in school_locations:\n",
    "    row = []\n",
    "    row.insert(0,col)\n",
    "    row.insert(1,'?')\n",
    "    row.insert(2,school_locations[col].dtype)\n",
    "    if is_numeric_dtype(row[2]):\n",
    "        row.insert(4,school_locations[col].min())\n",
    "        row.insert(5,school_locations[col].max())\n",
    "        row.insert(3,str(school_locations[col].min()) + ' - ' + str(school_locations[col].max()))\n",
    "    else:\n",
    "        row.insert(4,'N/A')\n",
    "        row.insert(5,'N/A')\n",
    "        row.insert(3,'N/A')\n",
    "    row.insert(6,len(school_locations[col].unique()))\n",
    "    row.insert(7,school_locations[col].isnull().sum())\n",
    "\n",
    "    #create a series with this list\\n\",\n",
    "    row_series = pd.Series(row, index = headers)\n",
    "    school_location_table_data = school_location_table_data.append(row_series, ignore_index=True)\n",
    "school_location_table_data"
   ],
   "metadata": {
    "collapsed": false,
    "pycharm": {
     "name": "#%%\n",
     "is_executing": true
    }
   }
  },
  {
   "cell_type": "markdown",
   "source": [
    "## Step 7: Scatter Plot\n",
    "### Year 12 Male and Female Student Distribution Across Education Sectors and School Types"
   ],
   "metadata": {
    "collapsed": false
   }
  },
  {
   "cell_type": "code",
   "execution_count": null,
   "outputs": [],
   "source": [
    "import plotly.express as px\n",
    "fig = px.scatter(school_enrolments, x='Year 12 Males', y='Year 12 Females', color='Education_Sector', symbol='School_Type', title='Year 12 Male and Female Student Distribution Across Education Sectors and School Types')\n",
    "fig.show()"
   ],
   "metadata": {
    "collapsed": false,
    "pycharm": {
     "name": "#%%\n",
     "is_executing": true
    }
   }
  },
  {
   "cell_type": "markdown",
   "source": [
    "### Prep Student Distribution in Catholic Schools"
   ],
   "metadata": {
    "collapsed": false
   }
  },
  {
   "cell_type": "code",
   "execution_count": null,
   "outputs": [],
   "source": [
    "fig = px.scatter(school_enrolments.query(\"Education_Sector=='Catholic'\"), x='Prep Males Total', y='Prep Females Total', size='Grand Total', color='School_Type', hover_name='School_Name', size_max=30, title = 'Prep Student Distribution in Catholic Schools')\n",
    "fig.show()"
   ],
   "metadata": {
    "collapsed": false,
    "pycharm": {
     "name": "#%%\n",
     "is_executing": true
    }
   }
  },
  {
   "cell_type": "markdown",
   "source": [
    "### Total Student Count of Schools Across Education Sectors"
   ],
   "metadata": {
    "collapsed": false
   }
  },
  {
   "cell_type": "code",
   "execution_count": null,
   "outputs": [],
   "source": [
    "fig = px.scatter(school_enrolments, x='Grand Total', y='Education_Sector', color='School_Type', title='Total Student Count of Schools Across Education Sectors')\n",
    "fig.show()"
   ],
   "metadata": {
    "collapsed": false,
    "pycharm": {
     "name": "#%%\n",
     "is_executing": true
    }
   }
  },
  {
   "cell_type": "markdown",
   "source": [
    "## Step 7: Pie Chart\n",
    "### Student Distribution Across Education Sectors"
   ],
   "metadata": {
    "collapsed": false
   }
  },
  {
   "cell_type": "code",
   "execution_count": null,
   "outputs": [],
   "source": [
    "fig = px.pie(school_enrolments, values='Grand Total', names='Education_Sector', title='Student Distribution Across Education Sectors')\n",
    "fig.show()"
   ],
   "metadata": {
    "collapsed": false,
    "pycharm": {
     "name": "#%%\n",
     "is_executing": true
    }
   }
  },
  {
   "cell_type": "markdown",
   "source": [
    "### Student Distribution Across School Types"
   ],
   "metadata": {
    "collapsed": false
   }
  },
  {
   "cell_type": "code",
   "execution_count": null,
   "outputs": [],
   "source": [
    "fig = px.pie(school_enrolments, values='Grand Total', names='School_Type', title='Student Distribution Across School Types')\n",
    "fig.show()"
   ],
   "metadata": {
    "collapsed": false,
    "pycharm": {
     "name": "#%%\n",
     "is_executing": true
    }
   }
  },
  {
   "cell_type": "markdown",
   "source": [
    "### Number of Schools per LGA"
   ],
   "metadata": {
    "collapsed": false
   }
  },
  {
   "cell_type": "code",
   "execution_count": null,
   "outputs": [],
   "source": [
    "df=school_locations\n",
    "df['Num_Schools_in_LGA']=df['LGA_ID'].map(df['LGA_ID'].value_counts())\n",
    "df_unique_LGA = df.drop_duplicates(subset=['LGA_ID'])\n",
    "df_unique_LGA.loc[df_unique_LGA['Num_Schools_in_LGA'] < 25, 'LGA_Name'] = 'Other LGA'\n",
    "fig = px.pie(df_unique_LGA, values='Num_Schools_in_LGA', names='LGA_Name', title='Number of Schools per LGA')\n",
    "fig.show()"
   ],
   "metadata": {
    "collapsed": false,
    "pycharm": {
     "name": "#%%\n",
     "is_executing": true
    }
   }
  },
  {
   "cell_type": "markdown",
   "source": [
    "### Distribution of Schools in Monash City Council Area, by Education Sector"
   ],
   "metadata": {
    "collapsed": false
   }
  },
  {
   "cell_type": "code",
   "execution_count": null,
   "outputs": [],
   "source": [
    "schools_in_Monash = school_locations.query(\"LGA_Name == 'Monash (C)'\")\n",
    "schools_in_Monash['Num_Education_Sector'] = schools_in_Monash['Education_Sector'].map(schools_in_Monash['Education_Sector'].value_counts())\n",
    "fig = px.pie(schools_in_Monash.drop_duplicates(subset=['Education_Sector']), values='Num_Education_Sector', names='Education_Sector', title='Distribution of Schools in Monash City Council Area, by Education Sector')\n",
    "fig.show()"
   ],
   "metadata": {
    "collapsed": false,
    "pycharm": {
     "name": "#%%\n"
    }
   }
  },
  {
   "cell_type": "markdown",
   "source": [
    "### Distribution of Schools in Monash City Council Area, by School Type"
   ],
   "metadata": {
    "collapsed": false
   }
  },
  {
   "cell_type": "code",
   "execution_count": null,
   "outputs": [],
   "source": [
    "schools_in_Monash['Num_School_Type']=schools_in_Monash['School_Type'].map(schools_in_Monash['School_Type'].value_counts())\n",
    "fig = px.pie(schools_in_Monash.drop_duplicates(subset=['School_Type']), values='Num_School_Type', names='School_Type', title='Distribution of Schools in Monash City Council Area, by School Type')\n",
    "fig.show()"
   ],
   "metadata": {
    "collapsed": false,
    "pycharm": {
     "name": "#%%\n"
    }
   }
  },
  {
   "cell_type": "markdown",
   "source": [
    "## Step 7: Histogram\n",
    "### Total Student Distribution Across Education Sectors"
   ],
   "metadata": {
    "collapsed": false
   }
  },
  {
   "cell_type": "code",
   "execution_count": null,
   "outputs": [],
   "source": [
    "fig = px.histogram(school_enrolments, x='Grand Total', nbins=20, color='Education_Sector', title='Total Student Distribution Across Education Sectors')\n",
    "fig.show()"
   ],
   "metadata": {
    "collapsed": false,
    "pycharm": {
     "name": "#%%\n",
     "is_executing": true
    }
   }
  },
  {
   "cell_type": "markdown",
   "source": [
    "### Number of Schools in an LGA"
   ],
   "metadata": {
    "collapsed": false
   }
  },
  {
   "cell_type": "code",
   "execution_count": null,
   "outputs": [],
   "source": [
    "fig = px.histogram(school_locations, x='LGA_Name', color='Education_Sector', title='Number of Schools in an LGA')\n",
    "fig.show()"
   ],
   "metadata": {
    "collapsed": false,
    "pycharm": {
     "name": "#%%\n"
    }
   }
  },
  {
   "cell_type": "markdown",
   "source": [
    "## Step 7: Maps\n",
    "### Number of Schools in an LGA, Annotated on Map"
   ],
   "metadata": {
    "collapsed": false
   }
  },
  {
   "cell_type": "code",
   "execution_count": null,
   "outputs": [],
   "source": [
    "import plotly.graph_objects as go\n",
    "fig = px.scatter_geo(df.drop_duplicates(subset=['LGA_ID']), lat='Y', lon='X', color='LGA_Name', hover_name='LGA_Name', projection='natural earth', size='Num_Schools_in_LGA', title='Number of Schools in an LGA')\n",
    "fig.update_layout(geo = go.layout.Geo(resolution = 50, showframe = True, showcoastlines = True, landcolor = 'rgb(229, 229, 229)', countrycolor = 'white', projection_type = 'mercator', lonaxis_range= [ 141.07, 149.77 ], lataxis_range= [ -38.76, -34.74 ], domain = dict(x = [ 0, 1 ], y = [ 0, 1 ])),)\n",
    "fig.show()"
   ],
   "metadata": {
    "collapsed": false,
    "pycharm": {
     "name": "#%%\n",
     "is_executing": true
    }
   }
  },
  {
   "cell_type": "markdown",
   "source": [
    "## Step 8: Pearson Correlation Coefficient on Heat Maps"
   ],
   "metadata": {
    "collapsed": false
   }
  },
  {
   "cell_type": "code",
   "execution_count": null,
   "outputs": [],
   "source": [
    "pearson_enrolments = school_enrolments.corr(method='pearson', min_periods=1)\n",
    "heat_map_Pearson_enrolments = px.imshow(pearson_enrolments, text_auto=True)\n",
    "heat_map_Pearson_enrolments.show()"
   ],
   "metadata": {
    "collapsed": false,
    "pycharm": {
     "name": "#%%\n"
    }
   }
  },
  {
   "cell_type": "markdown",
   "source": [
    "## Step 8: Spearman Correlation Coefficient on Heat Maps"
   ],
   "metadata": {
    "collapsed": false
   }
  },
  {
   "cell_type": "code",
   "execution_count": null,
   "outputs": [],
   "source": [
    "spearman_enrolments = school_enrolments.corr(method='spearman', min_periods=1)\n",
    "heat_map_spearman_enrolments = px.imshow(spearman_enrolments, text_auto=True)\n",
    "heat_map_spearman_enrolments.show()"
   ],
   "metadata": {
    "collapsed": false,
    "pycharm": {
     "name": "#%%\n"
    }
   }
  },
  {
   "cell_type": "markdown",
   "source": [
    "## Step 9: Folium Maps\n",
    "### Schools across the State of Victoria, Displayed on a Map"
   ],
   "metadata": {
    "collapsed": false
   }
  },
  {
   "cell_type": "code",
   "execution_count": null,
   "outputs": [],
   "source": [
    "import folium\n",
    "#import numpy as np\\n\",\n",
    "#edu_sectors = school_locations['Education_Sector'].unique()\\n\",\n",
    "\n",
    "edu_sectors_dict = {'Government': 'green', 'Catholic': 'red', 'Independent': 'blue'}\n",
    "school_types_dict = {'Primary': 'child', 'Secondary':'graduation-cap', 'Pri/Sec': 'university', 'Special': 'universal-access'}\n",
    "\n",
    "m = folium.Map(location=[school_locations['Y'].mean(axis=0), school_locations['X'].mean(axis=0)], zoom_start=12)\n",
    "for i in range(0,len(school_locations['Y'])):\n",
    "    popup = school_locations.loc[i,'School_Name'] + '\\n' + school_locations.loc[i,'School_Type'] + '(' + school_locations.loc[i,'Education_Sector'] + ')' + '\\n' + school_locations.loc[i,'Address_Town'] + ',' + school_locations.loc[i,'LGA_Name']\n",
    "    folium.Marker([school_locations.loc[i,'Y'], school_locations.loc[i,'X']], popup=popup, tooltip=school_locations.loc[i,'School_Name'], icon=folium.Icon(color=edu_sectors_dict.get(school_locations.loc[i,'Education_Sector']), icon=school_types_dict.get(school_locations.loc[i,'School_Type']), prefix = 'fa')).add_to(m)\n",
    "m"
   ],
   "metadata": {
    "collapsed": false,
    "pycharm": {
     "name": "#%%\n",
     "is_executing": true
    }
   }
  },
  {
   "cell_type": "markdown",
   "source": [
    "## Step 10: Visualising School Locations with Pandas Profiling"
   ],
   "metadata": {
    "collapsed": false
   }
  },
  {
   "cell_type": "code",
   "execution_count": null,
   "outputs": [],
   "source": [
    "from pandas_profiling import ProfileReport\n",
    "profile = ProfileReport(school_locations, title='Pandas Profiling Report - School Locations', explorative=True)\n",
    "profile.to_notebook_iframe()"
   ],
   "metadata": {
    "collapsed": false,
    "pycharm": {
     "name": "#%%\n"
    }
   }
  },
  {
   "cell_type": "markdown",
   "source": [
    "## Step 10: Visualising School Enrolments with Pandas Profiling"
   ],
   "metadata": {
    "collapsed": false
   }
  },
  {
   "cell_type": "code",
   "execution_count": null,
   "outputs": [],
   "source": [
    "profile = ProfileReport(school_enrolments, title='Pandas Profiling Report - School Enrolments', explorative=True)\n",
    "profile.to_notebook_iframe()"
   ],
   "metadata": {
    "collapsed": false,
    "pycharm": {
     "name": "#%%\n"
    }
   }
  }
 ],
 "metadata": {
  "kernelspec": {
   "display_name": "Python 3",
   "language": "python",
   "name": "python3"
  },
  "language_info": {
   "codemirror_mode": {
    "name": "ipython",
    "version": 2
   },
   "file_extension": ".py",
   "mimetype": "text/x-python",
   "name": "python",
   "nbconvert_exporter": "python",
   "pygments_lexer": "ipython2",
   "version": "2.7.6"
  }
 },
 "nbformat": 4,
 "nbformat_minor": 0
}